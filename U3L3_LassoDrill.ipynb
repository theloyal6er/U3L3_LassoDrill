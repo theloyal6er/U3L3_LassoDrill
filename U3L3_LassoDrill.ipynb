{
 "cells": [
  {
   "cell_type": "code",
   "execution_count": null,
   "metadata": {},
   "outputs": [],
   "source": [
    "ridgeregrBig = linear_model.Ridge(alpha=lambd, fit_intercept=False)\n",
    "    ridgeregrBig.fit(X_train2, Y_train)\n",
    "    \n",
    "    lassBig = linear_model.Lasso(alpha=lambd)\n",
    "    lassBig.fit(X_train2, Y_train)\n",
    "    \n",
    "    estimates = np.row_stack((\n",
    "        estimates,\n",
    "        [ridgeregrBig.score(X_train2, Y_train),lassBig.score(X_train2, Y_train),lambd]))\n",
    "\n",
    "for lambd in [0,.1,.2,.3,.4,.5,.6,.7,.8,.9,1]: \n",
    "    ridgeregrBig = linear_model.Ridge(alpha=lambd, fit_intercept=False) ridgeregrBig.fit(X_train2, Y_train)"
   ]
  }
 ],
 "metadata": {
  "kernelspec": {
   "display_name": "Python 3",
   "language": "python",
   "name": "python3"
  },
  "language_info": {
   "codemirror_mode": {
    "name": "ipython",
    "version": 3
   },
   "file_extension": ".py",
   "mimetype": "text/x-python",
   "name": "python",
   "nbconvert_exporter": "python",
   "pygments_lexer": "ipython3",
   "version": "3.7.0"
  }
 },
 "nbformat": 4,
 "nbformat_minor": 2
}
